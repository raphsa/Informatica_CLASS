{
 "cells": [
  {
   "cell_type": "markdown",
   "id": "54967725",
   "metadata": {},
   "source": [
    "# Ciclo For\n",
    "\n",
    "## Link utili\n",
    "\n",
    "Slide di teoria sul for:\n",
    "\n",
    "<a href=\"https://virtuale.unibo.it/mod/resource/view.php?id=1836026\" target=\"_blank\" style=\"text-decoration: none;\">\n",
    "  <div style=\"border: 2px solid #ddd; padding: 16px; border-radius: 10px; background-color: #f0f8ff; text-align: center; box-shadow: 2px 2px 5px rgba(0,0,0,0.1);\">\n",
    "    📎 <strong>Teoria sull'iterazione determinata: il ciclo for, l'operatore in e lo slice su sequenze</strong><br>\n",
    "    <small>slide del professore da Virtuale</small>\n",
    "  </div>\n",
    "</a>\n",
    "\n",
    "<div style=\"margin-top: 20px;\"></div>\n",
    "\n",
    "Esercizi sul for:\n",
    "\n",
    "<a href=\"https://virtuale.unibo.it/mod/resource/view.php?id=1836040\" target=\"_blank\" style=\"text-decoration: none;\">\n",
    "  <div style=\"border: 2px solid #ddd; padding: 16px; border-radius: 10px; background-color: #f0f8ff; text-align: center; box-shadow: 2px 2px 5px rgba(0,0,0,0.1);\">\n",
    "    📎 <strong>Esercizi senza soluzioni</strong><br>\n",
    "    <small>slide del professore da Virtuale</small>\n",
    "  </div>\n",
    "</a>"
   ]
  }
 ],
 "metadata": {
  "jupytext": {
   "formats": "md:myst",
   "text_representation": {
    "extension": ".md",
    "format_name": "myst",
    "format_version": 0.13,
    "jupytext_version": "1.11.5"
   }
  },
  "kernelspec": {
   "display_name": "Python 3",
   "language": "python",
   "name": "python3"
  },
  "language_info": {
   "codemirror_mode": {
    "name": "ipython",
    "version": 3
   },
   "file_extension": ".py",
   "mimetype": "text/x-python",
   "name": "python",
   "nbconvert_exporter": "python",
   "pygments_lexer": "ipython3",
   "version": "3.9.13"
  },
  "source_map": [
   13
  ]
 },
 "nbformat": 4,
 "nbformat_minor": 5
}