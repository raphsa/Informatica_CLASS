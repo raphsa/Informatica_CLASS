{
 "cells": [
  {
   "cell_type": "markdown",
   "id": "02c31c78",
   "metadata": {},
   "source": [
    "# Funzioni\n",
    "\n",
    "In Python, la definizione di una funzione parte da 5 semplici componenti. Nella riga iniziale devono essere indicati:\n",
    "- sigla che caratterizza la funzione (`def`), \n",
    "- nome che si decide di assegnare alla funzione,\n",
    "- parametri che caratterizzano una funzione, dentro una parentesi tonda e separati da virgola,\n",
    "- i `:` alla fine della riga, per poter procedere con il corpo della funzione, costituito da uno o più comandi\n",
    "Nella riga conclusiva, indendata rispetto alla riga iniziale (quindi applicando un rientro verso destra), deve essere indicato:\n",
    "- il comando `return`, seguito dall'espressione o risultato che si vuole venga restituita quando si chiama la funzione.\n",
    "\n",
    "Un esempio di sintassi di una funzione con due parametri, senza alcun comando al suo interno, è il seguente:\n",
    "\n",
    "```python\n",
    "def <nome funzione>(<parametro1>,<parametro2>):\n",
    "    return <espressione>\n",
    "```\n",
    "\n",
    "L'utilità di una funzione sta nel potere applicare una serie di comandi a tanti diversi oggetti (ad esempio, potremmo volere trovare il quadruplo di diversi numeri). Il ruolo dei parametri è proprio questo: comportarsi come una variabile, a cui ogni volta si assegna un valore a nostra discrezione.\n",
    "\n",
    "Di seguito, un esempio su come si potrebbe sviluppare la funzione, che chiameremo quadr, per generare il quadruplo di un numero:\n",
    "\n",
    "```python\n",
    "def quadr(x):\n",
    "    q = 4*x\n",
    "    return q\n",
    "```\n",
    "\n",
    "In questo modo, per ogni valore che decidiamo di verificare, la funzione ci restituirà il valore di `q`, che altro non è che il quadruplo del nostro numero.\n",
    "\n",
    "Di seguito, prova tu stesso giocando con diversi numeri! (Premi il tasto **run**)"
   ]
  },
  {
   "cell_type": "code",
   "execution_count": 1,
   "id": "b0354611",
   "metadata": {
    "tags": [
     "thebe-run"
    ]
   },
   "outputs": [
    {
     "name": "stdout",
     "output_type": "stream",
     "text": [
      "20\n"
     ]
    }
   ],
   "source": [
    "# NON MODIFICARE LA FUNZIONE, MA SOLO IL NUMERO ALL'INTERNO DI print()\n",
    "def quadr(x):\n",
    "    q = 4*x\n",
    "    return q\n",
    "\n",
    "print(quadr(5))"
   ]
  },
  {
   "cell_type": "markdown",
   "id": "332f9be2",
   "metadata": {},
   "source": [
    "## Link utili\n",
    "\n",
    "Slide di teoria sulle funzioni:\n",
    "\n",
    "<a href=\"https://virtuale.unibo.it/mod/resource/view.php?id=1836009\" target=\"_blank\" style=\"text-decoration: none;\">\n",
    "  <div style=\"border: 2px solid #ddd; padding: 16px; border-radius: 10px; background-color: #f0f8ff; text-align: center; box-shadow: 2px 2px 5px rgba(0,0,0,0.1);\">\n",
    "    📎 <strong>Teoria sulle funzioni</strong><br>\n",
    "    <small>slide del professore da Virtuale</small>\n",
    "  </div>\n",
    "</a>\n",
    "\n",
    "Esercizi sulle funzioni:\n",
    "\n",
    "<a href=\"https://virtuale.unibo.it/mod/resource/view.php?id=1836012\" target=\"_blank\" style=\"text-decoration: none;\">\n",
    "  <div style=\"border: 2px solid #ddd; padding: 16px; border-radius: 10px; background-color: #f0f8ff; text-align: center; box-shadow: 2px 2px 5px rgba(0,0,0,0.1);\">\n",
    "    📎 <strong>Esercizi senza soluzioni</strong><br>\n",
    "    <small>slide del professore da Virtuale</small>\n",
    "  </div>\n",
    "</a>\n",
    "\n",
    "## Esercizi svolti in aula\n",
    "\n",
    "## Esercizi aggiuntivi\n",
    "\n",
    "## Trova l'errore"
   ]
  }
 ],
 "metadata": {
  "jupytext": {
   "formats": "md:myst",
   "text_representation": {
    "extension": ".md",
    "format_name": "myst",
    "format_version": 0.13,
    "jupytext_version": "1.11.5"
   }
  },
  "kernelspec": {
   "display_name": "Python 3",
   "language": "python",
   "name": "python3"
  },
  "language_info": {
   "codemirror_mode": {
    "name": "ipython",
    "version": 3
   },
   "file_extension": ".py",
   "mimetype": "text/x-python",
   "name": "python",
   "nbconvert_exporter": "python",
   "pygments_lexer": "ipython3",
   "version": "3.9.13"
  },
  "source_map": [
   13,
   46,
   55
  ]
 },
 "nbformat": 4,
 "nbformat_minor": 5
}