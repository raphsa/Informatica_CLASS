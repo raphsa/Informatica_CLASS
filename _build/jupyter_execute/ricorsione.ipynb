{
 "cells": [
  {
   "cell_type": "markdown",
   "id": "d6e2c549",
   "metadata": {},
   "source": [
    "# Ricorsione\n",
    "\n",
    "## Link utili\n",
    "\n",
    "Slide di teoria sulla ricorsione:\n",
    "\n",
    "<a href=\"https://virtuale.unibo.it/mod/resource/view.php?id=1836072\" target=\"_blank\" style=\"text-decoration: none;\">\n",
    "  <div style=\"border: 2px solid #ddd; padding: 16px; border-radius: 10px; background-color: #f0f8ff; text-align: center; box-shadow: 2px 2px 5px rgba(0,0,0,0.1);\">\n",
    "    📎 <strong>Teoria sulla ricorsione: esempi su liste ed introduzione alla ricorsione</strong><br>\n",
    "    <small>slide del professore da Virtuale</small>\n",
    "  </div>\n",
    "</a>\n",
    "\n",
    "<div style=\"margin-top: 20px;\"></div>\n",
    "\n",
    "<a href=\"https://virtuale.unibo.it/mod/resource/view.php?id=1836075\" target=\"_blank\" style=\"text-decoration: none;\">\n",
    "  <div style=\"border: 2px solid #ddd; padding: 16px; border-radius: 10px; background-color: #f0f8ff; text-align: center; box-shadow: 2px 2px 5px rgba(0,0,0,0.1);\">\n",
    "    📎 <strong>Teoria sulla ricorsione: approfondimento sulla ricorsione</strong><br>\n",
    "    <small>slide del professore da Virtuale</small>\n",
    "  </div>\n",
    "</a>\n",
    "\n",
    "<div style=\"margin-top: 20px;\"></div>\n",
    "\n",
    "Esercizi sulla ricorsione:\n",
    "\n",
    "<a href=\"https://virtuale.unibo.it/mod/resource/view.php?id=1836078\" target=\"_blank\" style=\"text-decoration: none;\">\n",
    "  <div style=\"border: 2px solid #ddd; padding: 16px; border-radius: 10px; background-color: #f0f8ff; text-align: center; box-shadow: 2px 2px 5px rgba(0,0,0,0.1);\">\n",
    "    📎 <strong>Esercizi senza soluzioni</strong><br>\n",
    "    <small>slide del professore da Virtuale</small>\n",
    "  </div>\n",
    "</a>"
   ]
  }
 ],
 "metadata": {
  "jupytext": {
   "formats": "md:myst",
   "text_representation": {
    "extension": ".md",
    "format_name": "myst",
    "format_version": 0.13,
    "jupytext_version": "1.11.5"
   }
  },
  "kernelspec": {
   "display_name": "Python 3",
   "language": "python",
   "name": "python3"
  },
  "language_info": {
   "codemirror_mode": {
    "name": "ipython",
    "version": 3
   },
   "file_extension": ".py",
   "mimetype": "text/x-python",
   "name": "python",
   "nbconvert_exporter": "python",
   "pygments_lexer": "ipython3",
   "version": "3.9.13"
  },
  "source_map": [
   13
  ]
 },
 "nbformat": 4,
 "nbformat_minor": 5
}