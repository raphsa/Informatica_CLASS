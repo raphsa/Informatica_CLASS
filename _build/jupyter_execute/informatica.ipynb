{
 "cells": [
  {
   "cell_type": "markdown",
   "id": "00acb88b",
   "metadata": {},
   "source": [
    "# Informatica - Il corso\n",
    "\n",
    "Il presente sito contiene materiale ed esercitazioni per il corso di Informatica della facoltà di Scienze Statistiche dell'Università di Bologna, tenuto dal professore Stefano Pio Zingaro. \n",
    "Le slides presenti sono ad opera del professore Stefano Pio Zingaro, titolare dell'insegnamento.\n",
    "Il presente sito si intende come supporto allo svolgimento degli esercizi, per l'apprendimento del linguaggio Python e la preparazione all'esame dell'insegnamento `07276 - Informatica`, per il corso di Laurea in Scienze statistiche (cod. 8873). \n",
    "\n",
    "## Topics\n",
    "\n",
    "All'interno del sito si potranno trovare gli esempi svolti in classe ed esercizi aggiuntivi per imparare al meglio le basi del linguaggio Python e le sue potenzialità.\n",
    "La barra a sinistra mostra gli argomenti del corso suddivisi sulla base dello svolgimento delle lezioni tenute dal professore Stefano Pio Zingaro.\n",
    "\n",
    "## Documentazione\n",
    "\n",
    "Per ulteriori approfondimenti, si consigliano di consultare le documentazioni ufficiali di Python e delle principali librerie utilizzate durante il corso:\n",
    "- [Python](https://www.python.org/doc/)\n",
    "\n",
    "## Informazioni\n",
    "\n",
    "Il presente sito è stato creato dal tutor Raffaele Sali. Per qualsiasi dubbio, non esiti a contattare l'indirizzo `raffaele.sali2@unibo.it`."
   ]
  }
 ],
 "metadata": {
  "jupytext": {
   "formats": "md:myst",
   "text_representation": {
    "extension": ".md",
    "format_name": "myst",
    "format_version": 0.13,
    "jupytext_version": "1.11.5"
   }
  },
  "kernelspec": {
   "display_name": "Python 3",
   "language": "python",
   "name": "python3"
  },
  "language_info": {
   "codemirror_mode": {
    "name": "ipython",
    "version": 3
   },
   "file_extension": ".py",
   "mimetype": "text/x-python",
   "name": "python",
   "nbconvert_exporter": "python",
   "pygments_lexer": "ipython3",
   "version": "3.9.13"
  },
  "source_map": [
   13
  ]
 },
 "nbformat": 4,
 "nbformat_minor": 5
}