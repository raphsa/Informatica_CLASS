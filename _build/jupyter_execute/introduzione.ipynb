{
 "cells": [
  {
   "cell_type": "markdown",
   "id": "767844d5",
   "metadata": {},
   "source": [
    "# Introduzione al laboratorio\n",
    "\n",
    "Gli esercizi durante le ore di laboratorio verranno svolti in coppia, al fine di favorire la comprensione. Il lavoro di coppia permette di individuare e correggere tempestivamente gli errori e, inoltre, favorisce il ragionamento su ciò che si sta svolgendo, nell'interazione con il compagno di lavoro.\n",
    "\n",
    "Di seguito, le slide ufficiali del corso, ad opera del Professore Stefano Pio Zingaro.\n",
    "\n",
    "<a href=\"https://virtuale.unibo.it/mod/resource/view.php?id=1836002\" target=\"_blank\" style=\"text-decoration: none;\">\n",
    "  <div style=\"border: 2px solid #ddd; padding: 16px; border-radius: 10px; background-color: #f0f8ff; text-align: center; box-shadow: 2px 2px 5px rgba(0,0,0,0.1);\">\n",
    "    📎 <strong>Teoria sulle basi del linguaggio: tipo, espressioni, nomi e assegnamento, stato</strong><br>\n",
    "    <small>slide del professore da Virtuale</small>\n",
    "  </div>\n",
    "</a>\n",
    "\n",
    "<div style=\"margin-top: 20px;\"></div>\n",
    "\n",
    "<a href=\"https://virtuale.unibo.it/mod/resource/view.php?id=1836007\" target=\"_blank\" style=\"text-decoration: none;\">\n",
    "  <div style=\"border: 2px solid #ddd; padding: 16px; border-radius: 10px; background-color: #f0f8ff; text-align: center; box-shadow: 2px 2px 5px rgba(0,0,0,0.1);\">\n",
    "    📎 <strong>Introduzione al laboratorio</strong><br>\n",
    "    <small>slide del professore da Virtuale</small>\n",
    "  </div>\n",
    "</a>\n",
    "\n",
    "## Esercizi\n",
    "\n",
    "Di seguito, qualche semplice esercizio di lettura per cominciare a familiarizzare con il linguaggio Python:\n",
    "\n",
    "###### Esercizio di lettura 1:"
   ]
  },
  {
   "cell_type": "code",
   "execution_count": 1,
   "id": "f0a41a0d",
   "metadata": {
    "tags": [
     "thebe-run"
    ]
   },
   "outputs": [],
   "source": [
    "a = \"ciao\"\n",
    "b = \"mondo\"\n",
    "aeb = a+b"
   ]
  },
  {
   "cell_type": "markdown",
   "id": "15f0b030",
   "metadata": {},
   "source": [
    "Cosa restituisce il comando `print(aeb)`?\n",
    "\n",
    "<form onsubmit=\"checkAnswer(event, 'q1_intro', 'ciaomondo', 'feedback1_intro')\">\n",
    "  <input type=\"radio\" name=\"q1_intro\" value=\"ciao mondo\"> ciao mondo<br>\n",
    "  <input type=\"radio\" name=\"q1_intro\" value=\"ciao+mondo\"> ciao+mondo<br>\n",
    "  <input type=\"radio\" name=\"q1_intro\" value=\"ciaomondo\"> ciaomondo<br>\n",
    "  <input type=\"radio\" name=\"q1_intro\" value=\"ciao,mondo\"> ciao,mondo<br>\n",
    "  <br>\n",
    "  <input type=\"submit\" value=\"Verifica\" style=\"background-color:#29313D; border-radius:5px\">\n",
    "  <button type=\"button\" style=\"background-color:#29313D; border-radius:5px\" onclick=\"resetQuiz('q1_intro', 'feedback1_intro')\">Reset</button>\n",
    "</form>\n",
    "\n",
    "<div style=\"margin-top: 20px;\"></div>\n",
    "\n",
    "<p id=\"feedback1_intro\"></p>\n",
    "\n",
    "<script>\n",
    "function checkAnswer(event, groupName, correctValue, feedbackID) {\n",
    "  event.preventDefault();\n",
    "  const choices = document.getElementsByName(groupName);\n",
    "  let selected = null;\n",
    "  for (const choice of choices) {\n",
    "    if (choice.checked) {\n",
    "      selected = choice.value;\n",
    "      break;\n",
    "    }\n",
    "  }\n",
    "\n",
    "  const feedback = document.getElementById(feedbackID);\n",
    "  if (selected === correctValue) {\n",
    "    feedback.innerHTML = \"✅ Corretto!\";\n",
    "  } else if (selected) {\n",
    "    feedback.innerHTML = \"❌ Sbagliato. Riprova.\";\n",
    "  } else {\n",
    "    feedback.innerHTML = \"⚠️ Seleziona una risposta prima di verificare.\";\n",
    "  }\n",
    "}\n",
    "\n",
    "function resetQuiz(groupName, feedbackID) {\n",
    "  const choices = document.getElementsByName(groupName);\n",
    "  for (const choice of choices) {\n",
    "    choice.checked = false;\n",
    "  }\n",
    "  document.getElementById(feedbackID).innerHTML = \"\";\n",
    "}\n",
    "</script>\n",
    "\n",
    "\n",
    "\n",
    "\n",
    "###### Esercizio di lettura 2:"
   ]
  },
  {
   "cell_type": "code",
   "execution_count": 2,
   "id": "b73cffce",
   "metadata": {},
   "outputs": [],
   "source": [
    "a = \"ciao\" \n",
    "b = 5 \n",
    "aperb = a*b "
   ]
  },
  {
   "cell_type": "markdown",
   "id": "2482666f",
   "metadata": {},
   "source": [
    "Cosa restituisce il comando `print(aperb)`?\n",
    "\n",
    "<form onsubmit=\"checkAnswer(event, 'q2_intro', 'ciaociaociaociaociao', 'feedback2_intro')\">\n",
    "  <input type=\"radio\" name=\"q2_intro\" value=\"5ciao\"> 5ciao<br>\n",
    "  <input type=\"radio\" name=\"q2_intro\" value=\"ccccciiiiiaaaaaooooo\"> ccccciiiiiaaaaaooooo<br>\n",
    "  <input type=\"radio\" name=\"q2_intro\" value=\"ciaociaociaociaociao\"> ciaociaociaociaociao<br>\n",
    "  <input type=\"radio\" name=\"q2_intro\" value=\"cinqueciao\"> cinqueciao<br>\n",
    "  <br>\n",
    "  <input type=\"submit\" value=\"Verifica\" style=\"background-color:#29313D; border-radius:5px\">\n",
    "  <button type=\"button\" style=\"background-color:#29313D; border-radius:5px\" onclick=\"resetQuiz('q2_intro', 'feedback2_intro')\">Reset</button>\n",
    "</form>\n",
    "\n",
    "<div style=\"margin-top: 20px;\"></div>\n",
    "\n",
    "<p id=\"feedback2_intro\"></p>\n",
    "\n",
    "###### Esercizio di lettura 3:"
   ]
  },
  {
   "cell_type": "code",
   "execution_count": 3,
   "id": "6dc24111",
   "metadata": {},
   "outputs": [],
   "source": [
    "a = 2 \n",
    "b = 3 \n",
    "area = a*b\n",
    "perimetro = a*2 + b*2 "
   ]
  },
  {
   "cell_type": "markdown",
   "id": "f8ffd4a1",
   "metadata": {},
   "source": [
    "Cosa restituisce il comando `print(area, perimetro)`?\n",
    "\n",
    "<form onsubmit=\"checkAnswer(event, 'q3_intro', '6 10', 'feedback3_intro')\">\n",
    "  <input type=\"radio\" name=\"q3_intro\" value=\"6, 10\"> 6, 10<br>\n",
    "  <input type=\"radio\" name=\"q3_intro\" value=\"6 10\"> 6 10<br>\n",
    "  <input type=\"radio\" name=\"q3_intro\" value=\"23, 14\"> 23, 14<br>\n",
    "  <input type=\"radio\" name=\"q3_intro\" value=\"ab, a2b2\"> ab, a2b2<br>\n",
    "  <br>\n",
    "  <input type=\"submit\" value=\"Verifica\" style=\"background-color:#29313D; border-radius:5px\">\n",
    "  <button type=\"button\" style=\"background-color:#29313D; border-radius:5px\" onclick=\"resetQuiz('q3_intro', 'feedback3_intro')\">Reset</button>\n",
    "</form>\n",
    "\n",
    "<div style=\"margin-top: 20px;\"></div>\n",
    "\n",
    "<p id=\"feedback3_intro\"></p>\n",
    "\n",
    "###### Esercizio di lettura 4:"
   ]
  },
  {
   "cell_type": "code",
   "execution_count": 4,
   "id": "86f1f758",
   "metadata": {},
   "outputs": [
    {
     "name": "stdout",
     "output_type": "stream",
     "text": [
      "13 42\n"
     ]
    }
   ],
   "source": [
    "a = 42 \n",
    "b = a \n",
    "a = 13 \n",
    "print(a, b)"
   ]
  },
  {
   "cell_type": "markdown",
   "id": "ef78cd4b",
   "metadata": {},
   "source": [
    "Cosa restituisce il comando `print(a, b)`?\n",
    "\n",
    "<form onsubmit=\"checkAnswer(event, 'q4_intro', '13 42', 'feedback4_intro')\">\n",
    "  <input type=\"radio\" name=\"q4_intro\" value=\"42, 13\"> 42, 13<br>\n",
    "  <input type=\"radio\" name=\"q4_intro\" value=\"13 42\"> 13 42<br>\n",
    "  <input type=\"radio\" name=\"q4_intro\" value=\"42 13\"> 42 13<br>\n",
    "  <input type=\"radio\" name=\"q4_intro\" value=\"13 a\"> 13 a<br>\n",
    "  <br>\n",
    "  <input type=\"submit\" value=\"Verifica\" style=\"background-color:#29313D; border-radius:5px\">\n",
    "  <button type=\"button\" style=\"background-color:#29313D; border-radius:5px\" onclick=\"resetQuiz('q4_intro', 'feedback4_intro')\">Reset</button>\n",
    "</form>\n",
    "\n",
    "<div style=\"margin-top: 20px;\"></div>\n",
    "\n",
    "<p id=\"feedback4_intro\"></p>\n",
    "\n",
    "## Esercizi da svolgere\n",
    "\n",
    "###### 1° esercizio:\n",
    "\n",
    "Scrivere un programma che stampa il perimetro di un quadrato avente il lato `l = 3`."
   ]
  },
  {
   "cell_type": "code",
   "execution_count": 5,
   "id": "d3453a32",
   "metadata": {},
   "outputs": [],
   "source": [
    "l = 0"
   ]
  },
  {
   "cell_type": "markdown",
   "id": "af679e07",
   "metadata": {},
   "source": [
    "###### 2° esercizio:\n",
    "\n",
    "Scrivere un programma che stampa `n` volte una stringa `s` a piacere (es. con `n = 4`, `s = \"ciao\"` stamperà ciaociaociaociao)"
   ]
  },
  {
   "cell_type": "code",
   "execution_count": 6,
   "id": "3982a1e0",
   "metadata": {},
   "outputs": [],
   "source": [
    "s = \"\"\n",
    "n = 0"
   ]
  },
  {
   "cell_type": "markdown",
   "id": "ca51c096",
   "metadata": {},
   "source": [
    "###### 3° esercizio:\n",
    "\n",
    "Scrivere un programma che stampa il volume di una sfera avente raggio `r` a piacere. Importare il valore di Pi greco dal modulo `math`."
   ]
  },
  {
   "cell_type": "code",
   "execution_count": 7,
   "id": "11dca052",
   "metadata": {},
   "outputs": [],
   "source": [
    "r = 0"
   ]
  },
  {
   "cell_type": "markdown",
   "id": "b745b2e3",
   "metadata": {},
   "source": [
    "###### 4° esercizio:\n",
    "\n",
    "Scrivere un programma che stampa al contrario una stringa lunga 4 caratteri scelta a piacere (es. se `s=\"lodi\"`, il programma stampa idol)."
   ]
  },
  {
   "cell_type": "code",
   "execution_count": 8,
   "id": "699421e7",
   "metadata": {},
   "outputs": [],
   "source": [
    "s = \"lodi\""
   ]
  },
  {
   "cell_type": "markdown",
   "id": "dbbe1504",
   "metadata": {},
   "source": [
    "###### 5° esercizio:\n",
    "\n",
    "Supponete di correre 10 km in 42 min e 42 sec. Scrivere un programma che stampa la vostra velocità media in km/minuto, km/h, miglia/minuto e miglia/h.\n",
    "- Calcolate quanti secondi ci sono in 42 minuti e 42 secondi.\n",
    "- A quante miglia corrispondono 10km? (un miglio corrisponde a 1.61 km)\n",
    "- La vostra velocità media è calcolata come distanza/tempo."
   ]
  },
  {
   "cell_type": "code",
   "execution_count": 9,
   "id": "eab46122",
   "metadata": {},
   "outputs": [],
   "source": [
    "secondi = 0"
   ]
  },
  {
   "cell_type": "markdown",
   "id": "d28395d5",
   "metadata": {},
   "source": [
    "###### 6° esercizio:\n",
    "\n",
    "Scrivere un programma che scambia i valori (scelti a piacere) legati ai due nomi `a` e `b` (deve funzionare per ogni valore iniziale di `a` e `b`). Es. se inizialmente `a = 7` e `b = 20`, alla fine `print(a,b)` stamperà 20 7."
   ]
  },
  {
   "cell_type": "code",
   "execution_count": 10,
   "id": "7475bb26",
   "metadata": {},
   "outputs": [],
   "source": [
    "a = 0\n",
    "b = 0"
   ]
  }
 ],
 "metadata": {
  "jupytext": {
   "formats": "md:myst",
   "text_representation": {
    "extension": ".md",
    "format_name": "myst",
    "format_version": 0.13,
    "jupytext_version": "1.11.5"
   }
  },
  "kernelspec": {
   "display_name": "Python 3",
   "language": "python",
   "name": "python3"
  },
  "language_info": {
   "codemirror_mode": {
    "name": "ipython",
    "version": 3
   },
   "file_extension": ".py",
   "mimetype": "text/x-python",
   "name": "python",
   "nbconvert_exporter": "python",
   "pygments_lexer": "ipython3",
   "version": "3.9.13"
  },
  "source_map": [
   13,
   42,
   48,
   101,
   105,
   124,
   129,
   148,
   153,
   177,
   179,
   185,
   188,
   194,
   196,
   202,
   204,
   213,
   215,
   221
  ]
 },
 "nbformat": 4,
 "nbformat_minor": 5
}