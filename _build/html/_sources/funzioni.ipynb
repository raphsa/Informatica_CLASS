{
 "cells": [
  {
   "cell_type": "markdown",
   "id": "6b4eed97",
   "metadata": {},
   "source": [
    "# Funzioni\n",
    "\n",
    "In Python, la definizione di una funzione parte da 5 semplici componenti. Nella riga iniziale devono essere indicati:\n",
    "- sigla che caratterizza la funzione (`def`), \n",
    "- nome che si decide di assegnare alla funzione,\n",
    "- parametri che caratterizzano una funzione, dentro una parentesi tonda e separati da virgola,\n",
    "- i `:` alla fine della riga, per poter procedere con il corpo della funzione, costituito da uno o più comandi\n",
    "Nella riga conclusiva, indendata rispetto alla riga iniziale (quindi applicando un rientro verso destra), deve essere indicato:\n",
    "- il comando `return`, seguito dall'espressione o risultato che si vuole venga restituita quando si chiama la funzione.\n",
    "\n",
    "Un esempio di sintassi di una funzione con due parametri, senza alcun comando al suo interno, è il seguente:\n",
    "\n",
    "```python\n",
    "def <nome funzione>(<parametro1>,<parametro2>):\n",
    "    return <espressione>\n",
    "```\n",
    "\n",
    "L'utilità di una funzione sta nel potere applicare una serie di comandi a tanti diversi oggetti (ad esempio, potremmo volere trovare il quadruplo di diversi numeri). Il ruolo dei parametri è proprio questo: comportarsi come una variabile, a cui ogni volta si assegna un valore a nostra discrezione.\n",
    "\n",
    "Di seguito, un esempio su come si potrebbe sviluppare la funzione, che chiameremo quadr, per generare il quadruplo di un numero:\n",
    "\n",
    "```python\n",
    "def quadr(x):\n",
    "    q = 4*x\n",
    "    return q\n",
    "```\n",
    "\n",
    "In questo modo, per ogni valore che decidiamo di verificare, la funzione ci restituirà il valore di `q`, che altro non è che il quadruplo del nostro numero.\n",
    "\n",
    "Di seguito, prova tu stesso giocando con diversi numeri! (Premi il tasto **run**)"
   ]
  },
  {
   "cell_type": "code",
   "execution_count": 1,
   "id": "2736913d",
   "metadata": {
    "tags": [
     "thebe-run"
    ]
   },
   "outputs": [
    {
     "name": "stdout",
     "output_type": "stream",
     "text": [
      "20\n"
     ]
    }
   ],
   "source": [
    "# NON MODIFICARE LA FUNZIONE, MA SOLO IL NUMERO ALL'INTERNO DI print()\n",
    "def quadr(x):\n",
    "    q = 4*x\n",
    "    return q\n",
    "\n",
    "print(quadr(5))"
   ]
  },
  {
   "cell_type": "markdown",
   "id": "44afde0f",
   "metadata": {},
   "source": [
    "## Link utili\n",
    "\n",
    "Slide di teoria sulle funzioni:\n",
    "\n",
    "<a href=\"https://virtuale.unibo.it/mod/resource/view.php?id=1836009\" target=\"_blank\" style=\"text-decoration: none;\">\n",
    "  <div style=\"border: 2px solid #ddd; padding: 16px; border-radius: 10px; background-color: #f0f8ff; text-align: center; box-shadow: 2px 2px 5px rgba(0,0,0,0.1);\">\n",
    "    📎 <strong>Teoria sulle funzioni</strong><br>\n",
    "    <small>slide del professore da Virtuale</small>\n",
    "  </div>\n",
    "</a>\n",
    "\n",
    "<div style=\"margin-top: 20px;\"></div>\n",
    "\n",
    "Esercizi sulle funzioni:\n",
    "\n",
    "<a href=\"https://virtuale.unibo.it/mod/resource/view.php?id=1836012\" target=\"_blank\" style=\"text-decoration: none;\">\n",
    "  <div style=\"border: 2px solid #ddd; padding: 16px; border-radius: 10px; background-color: #f0f8ff; text-align: center; box-shadow: 2px 2px 5px rgba(0,0,0,0.1);\">\n",
    "    📎 <strong>Esercizi senza soluzioni</strong><br>\n",
    "    <small>slide del professore da Virtuale</small>\n",
    "  </div>\n",
    "</a>\n",
    "\n",
    "## Esercizi\n",
    "\n",
    "Di seguito, qualche semplice esercizio di lettura per cominciare a familiarizzare con l'utilizzo delle funzioni nel linguaggio Python:\n",
    "\n",
    "###### Esercizio di lettura 1:"
   ]
  },
  {
   "cell_type": "code",
   "execution_count": 2,
   "id": "671fee22",
   "metadata": {
    "tags": [
     "thebe-run"
    ]
   },
   "outputs": [],
   "source": [
    "def moltiplic_stringa(stringa):\n",
    "  risultato = stringa*4\n",
    "  return risultato"
   ]
  },
  {
   "cell_type": "markdown",
   "id": "b425c952",
   "metadata": {},
   "source": [
    "Cosa restituisce il comando `print(moltiplic_stringa(\"prova\"))`?\n",
    "\n",
    "<form onsubmit=\"checkAnswer(event, 'q1_funz', 'provaprovaprovaprova', 'feedback1_funz')\">\n",
    "  <input type=\"radio\" name=\"q1_funz\" value=\"Errore\"> Errore<br>\n",
    "  <input type=\"radio\" name=\"q1_funz\" value=\"prova4\"> prova4<br>\n",
    "  <input type=\"radio\" name=\"q1_funz\" value=\"provaprovaprovaprova\"> provaprovaprovaprova<br>\n",
    "  <input type=\"radio\" name=\"q1_funz\" value=\"risultato\"> risultato<br>\n",
    "  <br>\n",
    "  <input type=\"submit\" value=\"Verifica\" style=\"border-radius:5px\">\n",
    "  <button type=\"button\" style=\"border-radius:5px\" onclick=\"resetQuiz('q1_funz', 'feedback1_funz')\">Reset</button>\n",
    "</form>\n",
    "\n",
    "<div style=\"margin-top: 20px;\"></div>\n",
    "\n",
    "<p id=\"feedback1_funz\"></p>\n",
    "\n",
    "<script>\n",
    "function checkAnswer(event, groupName, correctValue, feedbackID) {\n",
    "  event.preventDefault();\n",
    "  const choices = document.getElementsByName(groupName);\n",
    "  let selected = null;\n",
    "  for (const choice of choices) {\n",
    "    if (choice.checked) {\n",
    "      selected = choice.value;\n",
    "      break;\n",
    "    }\n",
    "  }\n",
    "\n",
    "  const feedback = document.getElementById(feedbackID);\n",
    "  if (selected === correctValue) {\n",
    "    feedback.innerHTML = \"✅ Corretto!\";\n",
    "  } else if (selected) {\n",
    "    feedback.innerHTML = \"❌ Sbagliato. Riprova.\";\n",
    "  } else {\n",
    "    feedback.innerHTML = \"⚠️ Seleziona una risposta prima di verificare.\";\n",
    "  }\n",
    "}\n",
    "\n",
    "function resetQuiz(groupName, feedbackID) {\n",
    "  const choices = document.getElementsByName(groupName);\n",
    "  for (const choice of choices) {\n",
    "    choice.checked = false;\n",
    "  }\n",
    "  document.getElementById(feedbackID).innerHTML = \"\";\n",
    "}\n",
    "</script>\n",
    "\n",
    "\n",
    "\n",
    "\n",
    "###### Esercizio di lettura 2:"
   ]
  },
  {
   "cell_type": "code",
   "execution_count": 3,
   "id": "ad4951a0",
   "metadata": {},
   "outputs": [],
   "source": [
    "def funz_decina(numero):\n",
    "  risultato = numero + 10\n",
    "  return \"risultato\""
   ]
  },
  {
   "cell_type": "markdown",
   "id": "44bd96a3",
   "metadata": {},
   "source": [
    "Cosa restituisce il comando `print(funz_decina(5))`?\n",
    "\n",
    "<form onsubmit=\"checkAnswer(event, 'q2_funz', 'risultato', 'feedback2_funz')\">\n",
    "  <input type=\"radio\" name=\"q2_funz\" value=\"50\"> 50<br>\n",
    "  <input type=\"radio\" name=\"q2_funz\" value=\"15\"> 15<br>\n",
    "  <input type=\"radio\" name=\"q2_funz\" value=\"510\"> 510<br>\n",
    "  <input type=\"radio\" name=\"q2_funz\" value=\"risultato\"> risultato<br>\n",
    "  <br>\n",
    "  <input type=\"submit\" value=\"Verifica\" style=\"border-radius:5px\">\n",
    "  <button type=\"button\" style=\"border-radius:5px\" onclick=\"resetQuiz('q2_funz', 'feedback2_funz')\">Reset</button>\n",
    "</form>\n",
    "\n",
    "<div style=\"margin-top: 20px;\"></div>\n",
    "\n",
    "<p id=\"feedback2_funz\"></p>\n",
    "\n",
    "###### Esercizio di lettura 3:"
   ]
  },
  {
   "cell_type": "code",
   "execution_count": 4,
   "id": "a2e00da5",
   "metadata": {},
   "outputs": [],
   "source": [
    "def somma_elem(elemento1, elemento2):\n",
    "  risultato = elemento1+elemento2\n",
    "  return risultato"
   ]
  },
  {
   "cell_type": "markdown",
   "id": "05c09920",
   "metadata": {},
   "source": [
    "Cosa restituisce il comando `print(somma_elem(\"elemento2\", \"3\"))`?\n",
    "\n",
    "<form onsubmit=\"checkAnswer(event, 'q3_funz', 'elemento23', 'feedback3_funz')\">\n",
    "  <input type=\"radio\" name=\"q3_funz\" value=\"elemento23\"> elemento23<br>\n",
    "  <input type=\"radio\" name=\"q3_funz\" value=\"elemento2elemento2elemento2\"> elemento2elemento2elemento2<br>\n",
    "  <input type=\"radio\" name=\"q3_funz\" value=\"elemento2+3\"> elemento2+3<br>\n",
    "  <input type=\"radio\" name=\"q3_funz\" value=\"3elemento2\"> 3elemento2<br>\n",
    "  <br>\n",
    "  <input type=\"submit\" value=\"Verifica\" style=\"border-radius:5px\">\n",
    "  <button type=\"button\" style=\"border-radius:5px\" onclick=\"resetQuiz('q3_funz', 'feedback3_funz')\">Reset</button>\n",
    "</form>\n",
    "\n",
    "<div style=\"margin-top: 20px;\"></div>\n",
    "\n",
    "<p id=\"feedback3_funz\"></p>\n",
    "\n",
    "###### Esercizio di lettura 4:"
   ]
  },
  {
   "cell_type": "code",
   "execution_count": 5,
   "id": "9216dfd0",
   "metadata": {},
   "outputs": [],
   "source": [
    "def divisione(x, y):\n",
    "  zero = x/y\n",
    "  return 0"
   ]
  },
  {
   "cell_type": "markdown",
   "id": "1348ec55",
   "metadata": {},
   "source": [
    "Cosa restituisce il comando `print(divisione(8, 4))`?\n",
    "\n",
    "<form onsubmit=\"checkAnswer(event, 'q4_funz', '0', 'feedback4_funz')\">\n",
    "  <input type=\"radio\" name=\"q4_funz\" value=\"2\"> 2<br>\n",
    "  <input type=\"radio\" name=\"q4_funz\" value=\"due\"> due<br>\n",
    "  <input type=\"radio\" name=\"q4_funz\" value=\"0\"> 0<br>\n",
    "  <input type=\"radio\" name=\"q4_funz\" value=\"zero\"> zero<br>\n",
    "  <br>\n",
    "  <input type=\"submit\" value=\"Verifica\" style=\"border-radius:5px\">\n",
    "  <button type=\"button\" style=\"border-radius:5px\" onclick=\"resetQuiz('q4_funz', 'feedback4_funz')\">Reset</button>\n",
    "</form>\n",
    "\n",
    "<div style=\"margin-top: 20px;\"></div>\n",
    "\n",
    "<p id=\"feedback4_funz\"></p>\n",
    "\n",
    "\n",
    "\n",
    "## Esercizi svolti in aula\n",
    "\n",
    "## Esercizi aggiuntivi\n",
    "\n",
    "## Trova l'errore"
   ]
  }
 ],
 "metadata": {
  "jupytext": {
   "formats": "md:myst",
   "text_representation": {
    "extension": ".md",
    "format_name": "myst",
    "format_version": 0.13,
    "jupytext_version": "1.11.5"
   }
  },
  "kernelspec": {
   "display_name": "Python 3",
   "language": "python",
   "name": "python3"
  },
  "language_info": {
   "codemirror_mode": {
    "name": "ipython",
    "version": 3
   },
   "file_extension": ".py",
   "mimetype": "text/x-python",
   "name": "python",
   "nbconvert_exporter": "python",
   "pygments_lexer": "ipython3",
   "version": "3.9.13"
  },
  "source_map": [
   13,
   46,
   55,
   84,
   90,
   143,
   147,
   166,
   170,
   189,
   193
  ]
 },
 "nbformat": 4,
 "nbformat_minor": 5
}